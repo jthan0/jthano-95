{
 "cells": [
  {
   "cell_type": "code",
   "execution_count": 142,
   "id": "behavioral-tobago",
   "metadata": {},
   "outputs": [],
   "source": [
    "import numpy as np\n",
    "import matplotlib as mpl\n",
    "import matplotlib.pyplot as plt\n",
    "import seaborn as sns\n",
    "import os\n",
    "import pandas as pd\n",
    "import datetime as dt\n",
    "import numpy as np\n",
    "from datetime import datetime, timedelta\n",
    "\n",
    "pd.options.display.float_format = '{:,.2f}'.format\n",
    "\n",
    "Listing = pd.read_csv('Listings.csv', low_memory=False)\n",
    "Reviews = pd.read_csv('Reviews.csv')\n",
    "\n",
    "Listing[\"Host_Since\"] = pd.to_datetime(Listing[\"host_since\"])\n",
    "Listing[\"today\"] = pd.to_datetime(\"2021-05-10\")\n",
    "Listing[\"Hosting_Age\"] = np.round(((Listing[\"today\"]- Listing[\"Host_Since\"])/timedelta(days=365)),2)\n",
    "Listing[\"Host_Since_Year\"] = Listing[\"Host_Since\"].dt.year\n",
    "\n",
    "Listing = Listing.set_index('listing_id')\n",
    "Reviews = Reviews.set_index('listing_id')\n",
    "merged = Listing.merge(Reviews, how='outer', left_index=True, right_index=True)\n"
   ]
  },
  {
   "cell_type": "code",
   "execution_count": 146,
   "id": "professional-emperor",
   "metadata": {},
   "outputs": [
    {
     "data": {
      "text/html": [
       "<div>\n",
       "<style scoped>\n",
       "    .dataframe tbody tr th:only-of-type {\n",
       "        vertical-align: middle;\n",
       "    }\n",
       "\n",
       "    .dataframe tbody tr th {\n",
       "        vertical-align: top;\n",
       "    }\n",
       "\n",
       "    .dataframe thead th {\n",
       "        text-align: right;\n",
       "    }\n",
       "</style>\n",
       "<table border=\"1\" class=\"dataframe\">\n",
       "  <thead>\n",
       "    <tr style=\"text-align: right;\">\n",
       "      <th></th>\n",
       "      <th>name</th>\n",
       "      <th>host_id</th>\n",
       "      <th>host_since</th>\n",
       "      <th>neighbourhood</th>\n",
       "      <th>district</th>\n",
       "      <th>city</th>\n",
       "      <th>property_type</th>\n",
       "      <th>room_type</th>\n",
       "      <th>accommodates</th>\n",
       "      <th>bedrooms</th>\n",
       "      <th>amenities</th>\n",
       "      <th>price</th>\n",
       "      <th>review_scores_rating</th>\n",
       "      <th>review_scores_accuracy</th>\n",
       "      <th>review_scores_location</th>\n",
       "      <th>review_scores_value</th>\n",
       "      <th>instant_bookable</th>\n",
       "      <th>Hosting_Age</th>\n",
       "      <th>Host_Since_Year</th>\n",
       "      <th>reviewer_id</th>\n",
       "    </tr>\n",
       "    <tr>\n",
       "      <th>listing_id</th>\n",
       "      <th></th>\n",
       "      <th></th>\n",
       "      <th></th>\n",
       "      <th></th>\n",
       "      <th></th>\n",
       "      <th></th>\n",
       "      <th></th>\n",
       "      <th></th>\n",
       "      <th></th>\n",
       "      <th></th>\n",
       "      <th></th>\n",
       "      <th></th>\n",
       "      <th></th>\n",
       "      <th></th>\n",
       "      <th></th>\n",
       "      <th></th>\n",
       "      <th></th>\n",
       "      <th></th>\n",
       "      <th></th>\n",
       "      <th></th>\n",
       "    </tr>\n",
       "  </thead>\n",
       "  <tbody>\n",
       "    <tr>\n",
       "      <th>2577</th>\n",
       "      <td>Loft for 4 by Canal Saint Martin</td>\n",
       "      <td>2827</td>\n",
       "      <td>2008-09-09</td>\n",
       "      <td>Enclos-St-Laurent</td>\n",
       "      <td>NaN</td>\n",
       "      <td>Paris</td>\n",
       "      <td>Entire loft</td>\n",
       "      <td>Entire place</td>\n",
       "      <td>4</td>\n",
       "      <td>2.00</td>\n",
       "      <td>[\"Heating\", \"TV\", \"Iron\", \"Kitchen\", \"Essentia...</td>\n",
       "      <td>125</td>\n",
       "      <td>100.00</td>\n",
       "      <td>10.00</td>\n",
       "      <td>10.00</td>\n",
       "      <td>10.00</td>\n",
       "      <td>t</td>\n",
       "      <td>12.67</td>\n",
       "      <td>2,008.00</td>\n",
       "      <td>28,047,930.00</td>\n",
       "    </tr>\n",
       "    <tr>\n",
       "      <th>2595</th>\n",
       "      <td>Skylit Midtown Castle</td>\n",
       "      <td>2845</td>\n",
       "      <td>2008-09-09</td>\n",
       "      <td>Midtown</td>\n",
       "      <td>Manhattan</td>\n",
       "      <td>New York</td>\n",
       "      <td>Entire apartment</td>\n",
       "      <td>Entire place</td>\n",
       "      <td>2</td>\n",
       "      <td>NaN</td>\n",
       "      <td>[\"Refrigerator\", \"Air conditioning\", \"Baking s...</td>\n",
       "      <td>100</td>\n",
       "      <td>94.00</td>\n",
       "      <td>9.00</td>\n",
       "      <td>10.00</td>\n",
       "      <td>9.00</td>\n",
       "      <td>f</td>\n",
       "      <td>12.67</td>\n",
       "      <td>2,008.00</td>\n",
       "      <td>61,580,757.00</td>\n",
       "    </tr>\n",
       "    <tr>\n",
       "      <th>2595</th>\n",
       "      <td>Skylit Midtown Castle</td>\n",
       "      <td>2845</td>\n",
       "      <td>2008-09-09</td>\n",
       "      <td>Midtown</td>\n",
       "      <td>Manhattan</td>\n",
       "      <td>New York</td>\n",
       "      <td>Entire apartment</td>\n",
       "      <td>Entire place</td>\n",
       "      <td>2</td>\n",
       "      <td>NaN</td>\n",
       "      <td>[\"Refrigerator\", \"Air conditioning\", \"Baking s...</td>\n",
       "      <td>100</td>\n",
       "      <td>94.00</td>\n",
       "      <td>9.00</td>\n",
       "      <td>10.00</td>\n",
       "      <td>9.00</td>\n",
       "      <td>f</td>\n",
       "      <td>12.67</td>\n",
       "      <td>2,008.00</td>\n",
       "      <td>165,354,250.00</td>\n",
       "    </tr>\n",
       "    <tr>\n",
       "      <th>2595</th>\n",
       "      <td>Skylit Midtown Castle</td>\n",
       "      <td>2845</td>\n",
       "      <td>2008-09-09</td>\n",
       "      <td>Midtown</td>\n",
       "      <td>Manhattan</td>\n",
       "      <td>New York</td>\n",
       "      <td>Entire apartment</td>\n",
       "      <td>Entire place</td>\n",
       "      <td>2</td>\n",
       "      <td>NaN</td>\n",
       "      <td>[\"Refrigerator\", \"Air conditioning\", \"Baking s...</td>\n",
       "      <td>100</td>\n",
       "      <td>94.00</td>\n",
       "      <td>9.00</td>\n",
       "      <td>10.00</td>\n",
       "      <td>9.00</td>\n",
       "      <td>f</td>\n",
       "      <td>12.67</td>\n",
       "      <td>2,008.00</td>\n",
       "      <td>66,056,138.00</td>\n",
       "    </tr>\n",
       "    <tr>\n",
       "      <th>2595</th>\n",
       "      <td>Skylit Midtown Castle</td>\n",
       "      <td>2845</td>\n",
       "      <td>2008-09-09</td>\n",
       "      <td>Midtown</td>\n",
       "      <td>Manhattan</td>\n",
       "      <td>New York</td>\n",
       "      <td>Entire apartment</td>\n",
       "      <td>Entire place</td>\n",
       "      <td>2</td>\n",
       "      <td>NaN</td>\n",
       "      <td>[\"Refrigerator\", \"Air conditioning\", \"Baking s...</td>\n",
       "      <td>100</td>\n",
       "      <td>94.00</td>\n",
       "      <td>9.00</td>\n",
       "      <td>10.00</td>\n",
       "      <td>9.00</td>\n",
       "      <td>f</td>\n",
       "      <td>12.67</td>\n",
       "      <td>2,008.00</td>\n",
       "      <td>60,181,725.00</td>\n",
       "    </tr>\n",
       "    <tr>\n",
       "      <th>...</th>\n",
       "      <td>...</td>\n",
       "      <td>...</td>\n",
       "      <td>...</td>\n",
       "      <td>...</td>\n",
       "      <td>...</td>\n",
       "      <td>...</td>\n",
       "      <td>...</td>\n",
       "      <td>...</td>\n",
       "      <td>...</td>\n",
       "      <td>...</td>\n",
       "      <td>...</td>\n",
       "      <td>...</td>\n",
       "      <td>...</td>\n",
       "      <td>...</td>\n",
       "      <td>...</td>\n",
       "      <td>...</td>\n",
       "      <td>...</td>\n",
       "      <td>...</td>\n",
       "      <td>...</td>\n",
       "      <td>...</td>\n",
       "    </tr>\n",
       "    <tr>\n",
       "      <th>48229422</th>\n",
       "      <td>Departamento para Ejecutivo en el Sur de la CDMX</td>\n",
       "      <td>25705137</td>\n",
       "      <td>2015-01-06</td>\n",
       "      <td>A�lvaro Obregon</td>\n",
       "      <td>NaN</td>\n",
       "      <td>Mexico City</td>\n",
       "      <td>Entire apartment</td>\n",
       "      <td>Entire place</td>\n",
       "      <td>4</td>\n",
       "      <td>2.00</td>\n",
       "      <td>[\"Heating\", \"TV\", \"Dedicated workspace\", \"Sham...</td>\n",
       "      <td>970</td>\n",
       "      <td>100.00</td>\n",
       "      <td>10.00</td>\n",
       "      <td>10.00</td>\n",
       "      <td>10.00</td>\n",
       "      <td>f</td>\n",
       "      <td>6.35</td>\n",
       "      <td>2,015.00</td>\n",
       "      <td>85,698,560.00</td>\n",
       "    </tr>\n",
       "    <tr>\n",
       "      <th>48242873</th>\n",
       "      <td>Casai Polanco | 2BR | Stylish Flat</td>\n",
       "      <td>236301634</td>\n",
       "      <td>2019-01-13</td>\n",
       "      <td>Miguel Hidalgo</td>\n",
       "      <td>NaN</td>\n",
       "      <td>Mexico City</td>\n",
       "      <td>Entire apartment</td>\n",
       "      <td>Entire place</td>\n",
       "      <td>4</td>\n",
       "      <td>2.00</td>\n",
       "      <td>[\"TV\", \"Dedicated workspace\", \"Bed linens\", \"E...</td>\n",
       "      <td>1422</td>\n",
       "      <td>80.00</td>\n",
       "      <td>10.00</td>\n",
       "      <td>10.00</td>\n",
       "      <td>10.00</td>\n",
       "      <td>t</td>\n",
       "      <td>2.32</td>\n",
       "      <td>2,019.00</td>\n",
       "      <td>63,831,673.00</td>\n",
       "    </tr>\n",
       "    <tr>\n",
       "      <th>48255009</th>\n",
       "      <td>GALATA TOWER&amp;VIEWS:Genuine Istanbul experience</td>\n",
       "      <td>375048822</td>\n",
       "      <td>2020-11-09</td>\n",
       "      <td>Beyoglu</td>\n",
       "      <td>NaN</td>\n",
       "      <td>Istanbul</td>\n",
       "      <td>Entire apartment</td>\n",
       "      <td>Entire place</td>\n",
       "      <td>8</td>\n",
       "      <td>3.00</td>\n",
       "      <td>[\"Dryer\", \"Hangers\", \"Long term stays allowed\"...</td>\n",
       "      <td>313</td>\n",
       "      <td>100.00</td>\n",
       "      <td>10.00</td>\n",
       "      <td>10.00</td>\n",
       "      <td>10.00</td>\n",
       "      <td>f</td>\n",
       "      <td>0.50</td>\n",
       "      <td>2,020.00</td>\n",
       "      <td>389,230,688.00</td>\n",
       "    </tr>\n",
       "    <tr>\n",
       "      <th>48256649</th>\n",
       "      <td>MetrobÃ¼s ve marmaraya 5 dakika temiz eksiksiz ev</td>\n",
       "      <td>389316854</td>\n",
       "      <td>2021-02-20</td>\n",
       "      <td>Kadikoy</td>\n",
       "      <td>NaN</td>\n",
       "      <td>Istanbul</td>\n",
       "      <td>Entire house</td>\n",
       "      <td>Entire place</td>\n",
       "      <td>4</td>\n",
       "      <td>1.00</td>\n",
       "      <td>[\"Iron\", \"Cleaning products\", \"Hot water kettl...</td>\n",
       "      <td>160</td>\n",
       "      <td>100.00</td>\n",
       "      <td>10.00</td>\n",
       "      <td>8.00</td>\n",
       "      <td>8.00</td>\n",
       "      <td>f</td>\n",
       "      <td>0.22</td>\n",
       "      <td>2,021.00</td>\n",
       "      <td>20,658,309.00</td>\n",
       "    </tr>\n",
       "    <tr>\n",
       "      <th>48263869</th>\n",
       "      <td>KÃ¼cÃ¼kcekmece gÃ¶lÃ¼ne yakÄ±n Ã¶zel oda</td>\n",
       "      <td>306420271</td>\n",
       "      <td>2019-11-03</td>\n",
       "      <td>Kucukcekmece</td>\n",
       "      <td>NaN</td>\n",
       "      <td>Istanbul</td>\n",
       "      <td>Private room in apartment</td>\n",
       "      <td>Private room</td>\n",
       "      <td>4</td>\n",
       "      <td>2.00</td>\n",
       "      <td>[\"Iron\", \"Cleaning products\", \"Game console\", ...</td>\n",
       "      <td>64</td>\n",
       "      <td>100.00</td>\n",
       "      <td>10.00</td>\n",
       "      <td>10.00</td>\n",
       "      <td>10.00</td>\n",
       "      <td>t</td>\n",
       "      <td>1.52</td>\n",
       "      <td>2,019.00</td>\n",
       "      <td>207,285,673.00</td>\n",
       "    </tr>\n",
       "  </tbody>\n",
       "</table>\n",
       "<p>5333726 rows × 20 columns</p>\n",
       "</div>"
      ],
      "text/plain": [
       "                                                         name    host_id  \\\n",
       "listing_id                                                                 \n",
       "2577                         Loft for 4 by Canal Saint Martin       2827   \n",
       "2595                                    Skylit Midtown Castle       2845   \n",
       "2595                                    Skylit Midtown Castle       2845   \n",
       "2595                                    Skylit Midtown Castle       2845   \n",
       "2595                                    Skylit Midtown Castle       2845   \n",
       "...                                                       ...        ...   \n",
       "48229422     Departamento para Ejecutivo en el Sur de la CDMX   25705137   \n",
       "48242873                   Casai Polanco | 2BR | Stylish Flat  236301634   \n",
       "48255009       GALATA TOWER&VIEWS:Genuine Istanbul experience  375048822   \n",
       "48256649    MetrobÃ¼s ve marmaraya 5 dakika temiz eksiksiz ev  389316854   \n",
       "48263869             KÃ¼cÃ¼kcekmece gÃ¶lÃ¼ne yakÄ±n Ã¶zel oda  306420271   \n",
       "\n",
       "            host_since      neighbourhood   district         city  \\\n",
       "listing_id                                                          \n",
       "2577        2008-09-09  Enclos-St-Laurent        NaN        Paris   \n",
       "2595        2008-09-09            Midtown  Manhattan     New York   \n",
       "2595        2008-09-09            Midtown  Manhattan     New York   \n",
       "2595        2008-09-09            Midtown  Manhattan     New York   \n",
       "2595        2008-09-09            Midtown  Manhattan     New York   \n",
       "...                ...                ...        ...          ...   \n",
       "48229422    2015-01-06    A�lvaro Obregon        NaN  Mexico City   \n",
       "48242873    2019-01-13     Miguel Hidalgo        NaN  Mexico City   \n",
       "48255009    2020-11-09            Beyoglu        NaN     Istanbul   \n",
       "48256649    2021-02-20            Kadikoy        NaN     Istanbul   \n",
       "48263869    2019-11-03       Kucukcekmece        NaN     Istanbul   \n",
       "\n",
       "                        property_type     room_type  accommodates  bedrooms  \\\n",
       "listing_id                                                                    \n",
       "2577                      Entire loft  Entire place             4      2.00   \n",
       "2595                 Entire apartment  Entire place             2       NaN   \n",
       "2595                 Entire apartment  Entire place             2       NaN   \n",
       "2595                 Entire apartment  Entire place             2       NaN   \n",
       "2595                 Entire apartment  Entire place             2       NaN   \n",
       "...                               ...           ...           ...       ...   \n",
       "48229422             Entire apartment  Entire place             4      2.00   \n",
       "48242873             Entire apartment  Entire place             4      2.00   \n",
       "48255009             Entire apartment  Entire place             8      3.00   \n",
       "48256649                 Entire house  Entire place             4      1.00   \n",
       "48263869    Private room in apartment  Private room             4      2.00   \n",
       "\n",
       "                                                    amenities  price  \\\n",
       "listing_id                                                             \n",
       "2577        [\"Heating\", \"TV\", \"Iron\", \"Kitchen\", \"Essentia...    125   \n",
       "2595        [\"Refrigerator\", \"Air conditioning\", \"Baking s...    100   \n",
       "2595        [\"Refrigerator\", \"Air conditioning\", \"Baking s...    100   \n",
       "2595        [\"Refrigerator\", \"Air conditioning\", \"Baking s...    100   \n",
       "2595        [\"Refrigerator\", \"Air conditioning\", \"Baking s...    100   \n",
       "...                                                       ...    ...   \n",
       "48229422    [\"Heating\", \"TV\", \"Dedicated workspace\", \"Sham...    970   \n",
       "48242873    [\"TV\", \"Dedicated workspace\", \"Bed linens\", \"E...   1422   \n",
       "48255009    [\"Dryer\", \"Hangers\", \"Long term stays allowed\"...    313   \n",
       "48256649    [\"Iron\", \"Cleaning products\", \"Hot water kettl...    160   \n",
       "48263869    [\"Iron\", \"Cleaning products\", \"Game console\", ...     64   \n",
       "\n",
       "            review_scores_rating  review_scores_accuracy  \\\n",
       "listing_id                                                 \n",
       "2577                      100.00                   10.00   \n",
       "2595                       94.00                    9.00   \n",
       "2595                       94.00                    9.00   \n",
       "2595                       94.00                    9.00   \n",
       "2595                       94.00                    9.00   \n",
       "...                          ...                     ...   \n",
       "48229422                  100.00                   10.00   \n",
       "48242873                   80.00                   10.00   \n",
       "48255009                  100.00                   10.00   \n",
       "48256649                  100.00                   10.00   \n",
       "48263869                  100.00                   10.00   \n",
       "\n",
       "            review_scores_location  review_scores_value instant_bookable  \\\n",
       "listing_id                                                                 \n",
       "2577                         10.00                10.00                t   \n",
       "2595                         10.00                 9.00                f   \n",
       "2595                         10.00                 9.00                f   \n",
       "2595                         10.00                 9.00                f   \n",
       "2595                         10.00                 9.00                f   \n",
       "...                            ...                  ...              ...   \n",
       "48229422                     10.00                10.00                f   \n",
       "48242873                     10.00                10.00                t   \n",
       "48255009                     10.00                10.00                f   \n",
       "48256649                      8.00                 8.00                f   \n",
       "48263869                     10.00                10.00                t   \n",
       "\n",
       "            Hosting_Age  Host_Since_Year    reviewer_id  \n",
       "listing_id                                               \n",
       "2577              12.67         2,008.00  28,047,930.00  \n",
       "2595              12.67         2,008.00  61,580,757.00  \n",
       "2595              12.67         2,008.00 165,354,250.00  \n",
       "2595              12.67         2,008.00  66,056,138.00  \n",
       "2595              12.67         2,008.00  60,181,725.00  \n",
       "...                 ...              ...            ...  \n",
       "48229422           6.35         2,015.00  85,698,560.00  \n",
       "48242873           2.32         2,019.00  63,831,673.00  \n",
       "48255009           0.50         2,020.00 389,230,688.00  \n",
       "48256649           0.22         2,021.00  20,658,309.00  \n",
       "48263869           1.52         2,019.00 207,285,673.00  \n",
       "\n",
       "[5333726 rows x 20 columns]"
      ]
     },
     "execution_count": 146,
     "metadata": {},
     "output_type": "execute_result"
    }
   ],
   "source": [
    "merged1 = merged.drop(\n",
    "    labels=['host_location','host_response_time','host_has_profile_pic','host_identity_verified','host_total_listings_count','host_response_rate','host_is_superhost','latitude','host_acceptance_rate','longitude','minimum_nights','maximum_nights','review_id','Host_Since','today','date','review_scores_cleanliness','review_scores_checkin','review_scores_communication'],\n",
    "    axis=1,\n",
    "    inplace=False\n",
    ")\n",
    "\n",
    "Airbnb = merged1.dropna(how = 'any',\n",
    "                            subset = ['review_scores_rating','review_scores_location','review_scores_value'])\n",
    "Airbnb.replace(np.nan,0)\n",
    "Airbnb"
   ]
  },
  {
   "cell_type": "code",
   "execution_count": 124,
   "id": "enabling-serum",
   "metadata": {},
   "outputs": [
    {
     "data": {
      "text/plain": [
       "1.451698073002033"
      ]
     },
     "execution_count": 124,
     "metadata": {},
     "output_type": "execute_result"
    }
   ],
   "source": [
    "Airbnb.bedrooms.mean()"
   ]
  },
  {
   "cell_type": "code",
   "execution_count": 123,
   "id": "subtle-metadata",
   "metadata": {},
   "outputs": [
    {
     "data": {
      "text/plain": [
       "1.451698073002033"
      ]
     },
     "execution_count": 123,
     "metadata": {},
     "output_type": "execute_result"
    }
   ],
   "source": [
    "Airbnb.replace(np.nan,0)\n",
    "Airbnb.bedrooms.mean()"
   ]
  },
  {
   "cell_type": "code",
   "execution_count": 147,
   "id": "listed-haiti",
   "metadata": {},
   "outputs": [
    {
     "data": {
      "text/plain": [
       "Index(['name', 'host_id', 'host_since', 'neighbourhood', 'district', 'city',\n",
       "       'property_type', 'room_type', 'accommodates', 'bedrooms', 'amenities',\n",
       "       'price', 'review_scores_rating', 'review_scores_accuracy',\n",
       "       'review_scores_location', 'review_scores_value', 'instant_bookable',\n",
       "       'Hosting_Age', 'Host_Since_Year', 'reviewer_id'],\n",
       "      dtype='object')"
      ]
     },
     "execution_count": 147,
     "metadata": {},
     "output_type": "execute_result"
    }
   ],
   "source": [
    "Airbnb.columns"
   ]
  },
  {
   "cell_type": "code",
   "execution_count": 144,
   "id": "danish-concern",
   "metadata": {},
   "outputs": [
    {
     "ename": "SyntaxError",
     "evalue": "unexpected EOF while parsing (<ipython-input-144-745ae6ff9ab8>, line 1)",
     "output_type": "error",
     "traceback": [
      "\u001b[0;36m  File \u001b[0;32m\"<ipython-input-144-745ae6ff9ab8>\"\u001b[0;36m, line \u001b[0;32m1\u001b[0m\n\u001b[0;31m    Airbnb.drop_duplicates(subset=[\"name\"],keep=False,inplace=True\u001b[0m\n\u001b[0m                                                                  ^\u001b[0m\n\u001b[0;31mSyntaxError\u001b[0m\u001b[0;31m:\u001b[0m unexpected EOF while parsing\n"
     ]
    }
   ],
   "source": [
    "Airbnb.drop_duplicates(subset=[\"name\"],keep=False,inplace=True #doja te delete duplicates me listing ID te njejte, ne vend te emrin. Esht e njejta gje? "
   ]
  },
  {
   "cell_type": "code",
   "execution_count": 148,
   "id": "infrared-grace",
   "metadata": {},
   "outputs": [
    {
     "data": {
      "text/plain": [
       "95281"
      ]
     },
     "execution_count": 148,
     "metadata": {},
     "output_type": "execute_result"
    }
   ],
   "source": [
    "Airbnb.duplicated().sum()"
   ]
  },
  {
   "cell_type": "code",
   "execution_count": 151,
   "id": "amateur-payment",
   "metadata": {},
   "outputs": [
    {
     "data": {
      "text/plain": [
       "0"
      ]
     },
     "execution_count": 151,
     "metadata": {},
     "output_type": "execute_result"
    }
   ],
   "source": [
    "Airbnb.replace(np.nan,0)\n",
    "ND = Airbnb.drop_duplicates(subset=['name']) #the code suggested didn't work but this one did. Is this good? \n",
    "ND.duplicated().sum()"
   ]
  },
  {
   "cell_type": "code",
   "execution_count": 163,
   "id": "becoming-beatles",
   "metadata": {},
   "outputs": [
    {
     "data": {
      "text/html": [
       "<div>\n",
       "<style scoped>\n",
       "    .dataframe tbody tr th:only-of-type {\n",
       "        vertical-align: middle;\n",
       "    }\n",
       "\n",
       "    .dataframe tbody tr th {\n",
       "        vertical-align: top;\n",
       "    }\n",
       "\n",
       "    .dataframe thead th {\n",
       "        text-align: right;\n",
       "    }\n",
       "</style>\n",
       "<table border=\"1\" class=\"dataframe\">\n",
       "  <thead>\n",
       "    <tr style=\"text-align: right;\">\n",
       "      <th></th>\n",
       "      <th>review_scores_location</th>\n",
       "    </tr>\n",
       "    <tr>\n",
       "      <th>city</th>\n",
       "      <th></th>\n",
       "    </tr>\n",
       "  </thead>\n",
       "  <tbody>\n",
       "    <tr>\n",
       "      <th>Bangkok</th>\n",
       "      <td>9.29</td>\n",
       "    </tr>\n",
       "    <tr>\n",
       "      <th>Cape Town</th>\n",
       "      <td>9.76</td>\n",
       "    </tr>\n",
       "    <tr>\n",
       "      <th>Hong Kong</th>\n",
       "      <td>9.59</td>\n",
       "    </tr>\n",
       "    <tr>\n",
       "      <th>Istanbul</th>\n",
       "      <td>9.49</td>\n",
       "    </tr>\n",
       "    <tr>\n",
       "      <th>Mexico City</th>\n",
       "      <td>9.84</td>\n",
       "    </tr>\n",
       "    <tr>\n",
       "      <th>New York</th>\n",
       "      <td>9.67</td>\n",
       "    </tr>\n",
       "    <tr>\n",
       "      <th>Paris</th>\n",
       "      <td>9.69</td>\n",
       "    </tr>\n",
       "    <tr>\n",
       "      <th>Rio de Janeiro</th>\n",
       "      <td>9.79</td>\n",
       "    </tr>\n",
       "    <tr>\n",
       "      <th>Rome</th>\n",
       "      <td>9.64</td>\n",
       "    </tr>\n",
       "    <tr>\n",
       "      <th>Sydney</th>\n",
       "      <td>9.76</td>\n",
       "    </tr>\n",
       "  </tbody>\n",
       "</table>\n",
       "</div>"
      ],
      "text/plain": [
       "                review_scores_location\n",
       "city                                  \n",
       "Bangkok                           9.29\n",
       "Cape Town                         9.76\n",
       "Hong Kong                         9.59\n",
       "Istanbul                          9.49\n",
       "Mexico City                       9.84\n",
       "New York                          9.67\n",
       "Paris                             9.69\n",
       "Rio de Janeiro                    9.79\n",
       "Rome                              9.64\n",
       "Sydney                            9.76"
      ]
     },
     "execution_count": 163,
     "metadata": {},
     "output_type": "execute_result"
    }
   ],
   "source": [
    "discard = ['Shared','room', 'Room', 'guesthouse', 'Farm stay', 'Boat', 'Entire floor', 'Camper/RV', 'Treehouse', 'Campsite', 'Cave', 'Train', 'Entire hostel', 'Tent', 'Yurt', 'Entire dorm', 'Bus', 'Entire in-law', 'Barn',\n",
    "       'Hut', 'Lighthouse', 'Holiday park', 'Entire resort', 'Pension', 'Castle', 'Casa particular', 'Dome house', 'Island', 'Earth house', 'Houseboat', 'Entire cabin', 'Entire chalet', 'Entire cottage' ]\n",
    "ND2 = ND[~ND.property_type.str.contains('|'.join(discard))]\n",
    "\n",
    "ND2.pivot_table(values = 'review_scores_location', index = 'city', aggfunc=np.mean)"
   ]
  },
  {
   "cell_type": "code",
   "execution_count": 164,
   "id": "durable-shelf",
   "metadata": {},
   "outputs": [
    {
     "data": {
      "text/plain": [
       "Text(0.5, 0.98, 'Preferred cities based on review score location')"
      ]
     },
     "execution_count": 164,
     "metadata": {},
     "output_type": "execute_result"
    },
    {
     "data": {
      "image/png": "[encoded data removed]",
      "text/plain": [
       "<Figure size 1080x360 with 1 Axes>"
      ]
     },
     "metadata": {
      "needs_background": "light"
     },
     "output_type": "display_data"
    }
   ],
   "source": [
    "SC = ND2.sort_values(by='review_scores_location', ascending=True) #Ascending values? Si mund ta fokusoj Y nga 8 ne 10 qe te duket me mir ndryshimi? \n",
    "PRC = sns.catplot(x='city', y='review_scores_location', kind ='bar', data = SC, aspect=3)\n",
    "PRC.set_xticklabels(rotation=360, horizontalalignment='center')\n",
    "PRC.fig.suptitle('Preferred cities based on review score location')\n"
   ]
  },
  {
   "cell_type": "code",
   "execution_count": 183,
   "id": "noble-federal",
   "metadata": {},
   "outputs": [
    {
     "data": {
      "text/plain": [
       "Entire apartment             3247\n",
       "Entire condominium           2323\n",
       "Entire house                  245\n",
       "Entire townhouse              240\n",
       "Entire serviced apartment     234\n",
       "Entire loft                    65\n",
       "Entire villa                   42\n",
       "Entire guest suite             23\n",
       "Entire place                   19\n",
       "Entire home/apt                11\n",
       "Tiny house                      8\n",
       "Entire bungalow                 8\n",
       "Entire bed and breakfast        6\n",
       "Name: property_type, dtype: int64"
      ]
     },
     "execution_count": 183,
     "metadata": {},
     "output_type": "execute_result"
    }
   ],
   "source": [
    "Bangkok = SC.loc[(SC['city']=='Bangkok')]\n",
    "Bangkok['property_type'].value_counts()"
   ]
  },
  {
   "cell_type": "code",
   "execution_count": 195,
   "id": "maritime-weekend",
   "metadata": {},
   "outputs": [
    {
     "data": {
      "text/html": [
       "<div>\n",
       "<style scoped>\n",
       "    .dataframe tbody tr th:only-of-type {\n",
       "        vertical-align: middle;\n",
       "    }\n",
       "\n",
       "    .dataframe tbody tr th {\n",
       "        vertical-align: top;\n",
       "    }\n",
       "\n",
       "    .dataframe thead tr th {\n",
       "        text-align: left;\n",
       "    }\n",
       "</style>\n",
       "<table border=\"1\" class=\"dataframe\">\n",
       "  <thead>\n",
       "    <tr>\n",
       "      <th></th>\n",
       "      <th colspan=\"2\" halign=\"left\">neighbourhood</th>\n",
       "    </tr>\n",
       "    <tr>\n",
       "      <th></th>\n",
       "      <th></th>\n",
       "      <th>count</th>\n",
       "    </tr>\n",
       "  </thead>\n",
       "  <tbody>\n",
       "    <tr>\n",
       "      <th>0</th>\n",
       "      <td>Bang Bon</td>\n",
       "      <td>1</td>\n",
       "    </tr>\n",
       "    <tr>\n",
       "      <th>1</th>\n",
       "      <td>Bang Kapi</td>\n",
       "      <td>91</td>\n",
       "    </tr>\n",
       "    <tr>\n",
       "      <th>2</th>\n",
       "      <td>Bang Khae</td>\n",
       "      <td>12</td>\n",
       "    </tr>\n",
       "    <tr>\n",
       "      <th>3</th>\n",
       "      <td>Bang Khen</td>\n",
       "      <td>25</td>\n",
       "    </tr>\n",
       "    <tr>\n",
       "      <th>4</th>\n",
       "      <td>Bang Kho laen</td>\n",
       "      <td>65</td>\n",
       "    </tr>\n",
       "    <tr>\n",
       "      <th>5</th>\n",
       "      <td>Bang Khun thain</td>\n",
       "      <td>5</td>\n",
       "    </tr>\n",
       "    <tr>\n",
       "      <th>6</th>\n",
       "      <td>Bang Na</td>\n",
       "      <td>238</td>\n",
       "    </tr>\n",
       "    <tr>\n",
       "      <th>7</th>\n",
       "      <td>Bang Phlat</td>\n",
       "      <td>58</td>\n",
       "    </tr>\n",
       "    <tr>\n",
       "      <th>8</th>\n",
       "      <td>Bang Rak</td>\n",
       "      <td>263</td>\n",
       "    </tr>\n",
       "    <tr>\n",
       "      <th>9</th>\n",
       "      <td>Bang Sue</td>\n",
       "      <td>122</td>\n",
       "    </tr>\n",
       "  </tbody>\n",
       "</table>\n",
       "</div>"
      ],
      "text/plain": [
       "     neighbourhood      \n",
       "                   count\n",
       "0         Bang Bon     1\n",
       "1        Bang Kapi    91\n",
       "2        Bang Khae    12\n",
       "3        Bang Khen    25\n",
       "4    Bang Kho laen    65\n",
       "5  Bang Khun thain     5\n",
       "6          Bang Na   238\n",
       "7       Bang Phlat    58\n",
       "8         Bang Rak   263\n",
       "9         Bang Sue   122"
      ]
     },
     "execution_count": 195,
     "metadata": {},
     "output_type": "execute_result"
    }
   ],
   "source": [
    "df = Bangkok.groupby(['neighbourhood']).agg({'neighbourhood':['count']}).reset_index() #Count lisiting IDs per property type for each neighberhood. Esht ne rregull? \n",
    "df.head(10)"
   ]
  },
  {
   "cell_type": "code",
   "execution_count": 198,
   "id": "eastern-technical",
   "metadata": {},
   "outputs": [
    {
     "data": {
      "text/plain": [
       "<AxesSubplot:xlabel='neighbourhood'>"
      ]
     },
     "execution_count": 198,
     "metadata": {},
     "output_type": "execute_result"
    },
    {
     "data": {
      "image/png": "[encoded data removed]",
      "text/plain": [
       "<Figure size 432x288 with 1 Axes>"
      ]
     },
     "metadata": {
      "needs_background": "light"
     },
     "output_type": "display_data"
    }
   ],
   "source": [
    "Bangkok.groupby(['neighbourhood','property_type'])['property_type'].count().unstack().plot(kind='bar', stacked = True) #Si mund ta fokusoj ne 12 lagjet me me shum lsiting IDs? Also, how can I make the columns wider? \n"
   ]
  },
  {
   "cell_type": "code",
   "execution_count": 225,
   "id": "unusual-feedback",
   "metadata": {},
   "outputs": [
    {
     "data": {
      "text/html": [
       "<div>\n",
       "<style scoped>\n",
       "    .dataframe tbody tr th:only-of-type {\n",
       "        vertical-align: middle;\n",
       "    }\n",
       "\n",
       "    .dataframe tbody tr th {\n",
       "        vertical-align: top;\n",
       "    }\n",
       "\n",
       "    .dataframe thead tr th {\n",
       "        text-align: left;\n",
       "    }\n",
       "</style>\n",
       "<table border=\"1\" class=\"dataframe\">\n",
       "  <thead>\n",
       "    <tr>\n",
       "      <th></th>\n",
       "      <th colspan=\"2\" halign=\"left\">Host_Since_Year</th>\n",
       "    </tr>\n",
       "    <tr>\n",
       "      <th></th>\n",
       "      <th></th>\n",
       "      <th>count</th>\n",
       "    </tr>\n",
       "  </thead>\n",
       "  <tbody>\n",
       "    <tr>\n",
       "      <th>0</th>\n",
       "      <td>2,009.00</td>\n",
       "      <td>2</td>\n",
       "    </tr>\n",
       "    <tr>\n",
       "      <th>1</th>\n",
       "      <td>2,010.00</td>\n",
       "      <td>32</td>\n",
       "    </tr>\n",
       "    <tr>\n",
       "      <th>2</th>\n",
       "      <td>2,011.00</td>\n",
       "      <td>95</td>\n",
       "    </tr>\n",
       "    <tr>\n",
       "      <th>3</th>\n",
       "      <td>2,012.00</td>\n",
       "      <td>244</td>\n",
       "    </tr>\n",
       "    <tr>\n",
       "      <th>4</th>\n",
       "      <td>2,013.00</td>\n",
       "      <td>416</td>\n",
       "    </tr>\n",
       "    <tr>\n",
       "      <th>5</th>\n",
       "      <td>2,014.00</td>\n",
       "      <td>618</td>\n",
       "    </tr>\n",
       "    <tr>\n",
       "      <th>6</th>\n",
       "      <td>2,015.00</td>\n",
       "      <td>1217</td>\n",
       "    </tr>\n",
       "    <tr>\n",
       "      <th>7</th>\n",
       "      <td>2,016.00</td>\n",
       "      <td>972</td>\n",
       "    </tr>\n",
       "    <tr>\n",
       "      <th>8</th>\n",
       "      <td>2,017.00</td>\n",
       "      <td>885</td>\n",
       "    </tr>\n",
       "    <tr>\n",
       "      <th>9</th>\n",
       "      <td>2,018.00</td>\n",
       "      <td>922</td>\n",
       "    </tr>\n",
       "  </tbody>\n",
       "</table>\n",
       "</div>"
      ],
      "text/plain": [
       "  Host_Since_Year      \n",
       "                  count\n",
       "0        2,009.00     2\n",
       "1        2,010.00    32\n",
       "2        2,011.00    95\n",
       "3        2,012.00   244\n",
       "4        2,013.00   416\n",
       "5        2,014.00   618\n",
       "6        2,015.00  1217\n",
       "7        2,016.00   972\n",
       "8        2,017.00   885\n",
       "9        2,018.00   922"
      ]
     },
     "execution_count": 225,
     "metadata": {},
     "output_type": "execute_result"
    }
   ],
   "source": [
    "df2 = Bangkok.groupby(['Host_Since_Year']).agg({'Host_Since_Year':['count']}).reset_index() #Count lisiting IDs per property type for each neighberhood. Esht ne rregull? \n",
    "df2.head(10) #Cfar lloj visual esht me mir per kto te dhena? Scatterplot "
   ]
  },
  {
   "cell_type": "code",
   "execution_count": 229,
   "id": "vital-discount",
   "metadata": {},
   "outputs": [
    {
     "data": {
      "text/html": [
       "<div>\n",
       "<style scoped>\n",
       "    .dataframe tbody tr th:only-of-type {\n",
       "        vertical-align: middle;\n",
       "    }\n",
       "\n",
       "    .dataframe tbody tr th {\n",
       "        vertical-align: top;\n",
       "    }\n",
       "\n",
       "    .dataframe thead tr th {\n",
       "        text-align: left;\n",
       "    }\n",
       "</style>\n",
       "<table border=\"1\" class=\"dataframe\">\n",
       "  <thead>\n",
       "    <tr>\n",
       "      <th></th>\n",
       "      <th>property_type</th>\n",
       "      <th>price</th>\n",
       "    </tr>\n",
       "    <tr>\n",
       "      <th></th>\n",
       "      <th></th>\n",
       "      <th>mean</th>\n",
       "    </tr>\n",
       "  </thead>\n",
       "  <tbody>\n",
       "    <tr>\n",
       "      <th>0</th>\n",
       "      <td>Entire apartment</td>\n",
       "      <td>1,534.84</td>\n",
       "    </tr>\n",
       "    <tr>\n",
       "      <th>1</th>\n",
       "      <td>Entire bed and breakfast</td>\n",
       "      <td>1,505.17</td>\n",
       "    </tr>\n",
       "    <tr>\n",
       "      <th>2</th>\n",
       "      <td>Entire bungalow</td>\n",
       "      <td>1,322.25</td>\n",
       "    </tr>\n",
       "    <tr>\n",
       "      <th>3</th>\n",
       "      <td>Entire condominium</td>\n",
       "      <td>1,383.53</td>\n",
       "    </tr>\n",
       "    <tr>\n",
       "      <th>4</th>\n",
       "      <td>Entire guest suite</td>\n",
       "      <td>1,950.52</td>\n",
       "    </tr>\n",
       "    <tr>\n",
       "      <th>5</th>\n",
       "      <td>Entire home/apt</td>\n",
       "      <td>1,054.64</td>\n",
       "    </tr>\n",
       "    <tr>\n",
       "      <th>6</th>\n",
       "      <td>Entire house</td>\n",
       "      <td>4,412.84</td>\n",
       "    </tr>\n",
       "    <tr>\n",
       "      <th>7</th>\n",
       "      <td>Entire loft</td>\n",
       "      <td>1,777.28</td>\n",
       "    </tr>\n",
       "    <tr>\n",
       "      <th>8</th>\n",
       "      <td>Entire place</td>\n",
       "      <td>1,494.74</td>\n",
       "    </tr>\n",
       "    <tr>\n",
       "      <th>9</th>\n",
       "      <td>Entire serviced apartment</td>\n",
       "      <td>2,776.41</td>\n",
       "    </tr>\n",
       "  </tbody>\n",
       "</table>\n",
       "</div>"
      ],
      "text/plain": [
       "               property_type    price\n",
       "                                 mean\n",
       "0           Entire apartment 1,534.84\n",
       "1   Entire bed and breakfast 1,505.17\n",
       "2            Entire bungalow 1,322.25\n",
       "3         Entire condominium 1,383.53\n",
       "4         Entire guest suite 1,950.52\n",
       "5            Entire home/apt 1,054.64\n",
       "6               Entire house 4,412.84\n",
       "7                Entire loft 1,777.28\n",
       "8               Entire place 1,494.74\n",
       "9  Entire serviced apartment 2,776.41"
      ]
     },
     "execution_count": 229,
     "metadata": {},
     "output_type": "execute_result"
    }
   ],
   "source": [
    "df3 = Bangkok.groupby(['property_type']).agg({ 'price':['mean']}).reset_index()\n",
    "df3.head(10)\n"
   ]
  },
  {
   "cell_type": "code",
   "execution_count": 231,
   "id": "medium-terry",
   "metadata": {},
   "outputs": [
    {
     "name": "stderr",
     "output_type": "stream",
     "text": [
      "/opt/tljh/user/lib/python3.7/site-packages/pandas/core/generic.py:4152: PerformanceWarning: dropping on a non-lexsorted multi-index without a level parameter may impact performance.\n",
      "  obj = obj._drop_axis(labels, axis, level=level, errors=errors)\n"
     ]
    },
    {
     "data": {
      "text/plain": [
       "<Figure size 432x288 with 0 Axes>"
      ]
     },
     "metadata": {},
     "output_type": "display_data"
    },
    {
     "data": {
      "image/png": "[encoded data removed]",
      "text/plain": [
       "<Figure size 432x288 with 1 Axes>"
      ]
     },
     "metadata": {
      "needs_background": "light"
     },
     "output_type": "display_data"
    }
   ],
   "source": [
    "plt.clf()\n",
    "df3.groupby('property_type').sum().plot(kind='bar')\n",
    "plt.show()\n",
    "#Can I sort them by price? "
   ]
  },
  {
   "cell_type": "code",
   "execution_count": 249,
   "id": "novel-emperor",
   "metadata": {},
   "outputs": [
    {
     "data": {
      "text/plain": [
       "neighbourhood\n",
       "Bang Rak          2,492.57\n",
       "Pra Wet           2,568.88\n",
       "Khlong San        2,606.34\n",
       "Saphan Sung       2,992.50\n",
       "Samphanthawong    3,038.76\n",
       "Parthum Wan       3,577.21\n",
       "Nong Chok         4,161.40\n",
       "Lat Phrao         4,203.69\n",
       "Khlong Sam Wa     4,365.33\n",
       "Taling Chan      19,598.60\n",
       "Name: price, dtype: float64"
      ]
     },
     "execution_count": 249,
     "metadata": {},
     "output_type": "execute_result"
    }
   ],
   "source": [
    "df4 = Bangkok.groupby('neighbourhood')['price'].mean().sort_values(ascending=True)\n",
    "df4.tail(10)"
   ]
  },
  {
   "cell_type": "code",
   "execution_count": 251,
   "id": "affiliated-alexandria",
   "metadata": {},
   "outputs": [
    {
     "data": {
      "text/plain": [
       "<function matplotlib.pyplot.show(close=None, block=None)>"
      ]
     },
     "execution_count": 251,
     "metadata": {},
     "output_type": "execute_result"
    },
    {
     "data": {
      "image/png": "[encoded data removed]",
      "text/plain": [
       "<Figure size 432x288 with 1 Axes>"
      ]
     },
     "metadata": {
      "needs_background": "light"
     },
     "output_type": "display_data"
    }
   ],
   "source": [
    "ax1=df4.plot.barh(color='r', width=1)\n",
    "plt.title(\"Average price per neighbourhood\", fontsize=20)\n",
    "plt.xlabel('Average price', fontsize=20)\n",
    "plt.ylabel(\"\")\n",
    "plt.tight_layout()\n",
    "plt.show \n",
    "#It would be best to combine this graph and the previus graph in a stacked bar plot. I was unable to use the code you suggested. "
   ]
  },
  {
   "cell_type": "code",
   "execution_count": 219,
   "id": "ceramic-facial",
   "metadata": {
    "collapsed": true,
    "jupyter": {
     "outputs_hidden": true
    }
   },
   "outputs": [
    {
     "ename": "ValueError",
     "evalue": "The truth value of a Series is ambiguous. Use a.empty, a.bool(), a.item(), a.any() or a.all().",
     "output_type": "error",
     "traceback": [
      "\u001b[0;31m---------------------------------------------------------------------------\u001b[0m",
      "\u001b[0;31mValueError\u001b[0m                                Traceback (most recent call last)",
      "\u001b[0;32m<ipython-input-219-f392997ee802>\u001b[0m in \u001b[0;36m<module>\u001b[0;34m\u001b[0m\n\u001b[0;32m----> 1\u001b[0;31m \u001b[0mBKP\u001b[0m \u001b[0;34m=\u001b[0m \u001b[0msns\u001b[0m\u001b[0;34m.\u001b[0m\u001b[0mcatplot\u001b[0m\u001b[0;34m(\u001b[0m\u001b[0mx\u001b[0m\u001b[0;34m=\u001b[0m\u001b[0;34m'property_type'\u001b[0m\u001b[0;34m,\u001b[0m \u001b[0my\u001b[0m\u001b[0;34m=\u001b[0m\u001b[0;34m'price'\u001b[0m\u001b[0;34m,\u001b[0m \u001b[0mkind\u001b[0m\u001b[0;34m=\u001b[0m\u001b[0;34m'bar'\u001b[0m\u001b[0;34m,\u001b[0m \u001b[0mdata\u001b[0m \u001b[0;34m=\u001b[0m \u001b[0mdf3\u001b[0m\u001b[0;34m,\u001b[0m \u001b[0maspect\u001b[0m\u001b[0;34m=\u001b[0m\u001b[0;36m3\u001b[0m\u001b[0;34m)\u001b[0m\u001b[0;34m\u001b[0m\u001b[0;34m\u001b[0m\u001b[0m\n\u001b[0m\u001b[1;32m      2\u001b[0m \u001b[0mBKP\u001b[0m\u001b[0;34m.\u001b[0m\u001b[0mset_xticklabels\u001b[0m\u001b[0;34m(\u001b[0m\u001b[0mrotation\u001b[0m\u001b[0;34m=\u001b[0m\u001b[0;36m90\u001b[0m\u001b[0;34m,\u001b[0m \u001b[0mhorizontalalignment\u001b[0m\u001b[0;34m=\u001b[0m\u001b[0;34m'center'\u001b[0m\u001b[0;34m)\u001b[0m\u001b[0;34m\u001b[0m\u001b[0;34m\u001b[0m\u001b[0m\n\u001b[1;32m      3\u001b[0m \u001b[0mBKP\u001b[0m\u001b[0;34m.\u001b[0m\u001b[0mfig\u001b[0m\u001b[0;34m.\u001b[0m\u001b[0msuptitle\u001b[0m\u001b[0;34m(\u001b[0m\u001b[0;34m'Preferred cities based on review score location'\u001b[0m\u001b[0;34m)\u001b[0m\u001b[0;34m\u001b[0m\u001b[0;34m\u001b[0m\u001b[0m\n",
      "\u001b[0;32m/opt/tljh/user/lib/python3.7/site-packages/seaborn/_decorators.py\u001b[0m in \u001b[0;36minner_f\u001b[0;34m(*args, **kwargs)\u001b[0m\n\u001b[1;32m     44\u001b[0m             )\n\u001b[1;32m     45\u001b[0m         \u001b[0mkwargs\u001b[0m\u001b[0;34m.\u001b[0m\u001b[0mupdate\u001b[0m\u001b[0;34m(\u001b[0m\u001b[0;34m{\u001b[0m\u001b[0mk\u001b[0m\u001b[0;34m:\u001b[0m \u001b[0marg\u001b[0m \u001b[0;32mfor\u001b[0m \u001b[0mk\u001b[0m\u001b[0;34m,\u001b[0m \u001b[0marg\u001b[0m \u001b[0;32min\u001b[0m \u001b[0mzip\u001b[0m\u001b[0;34m(\u001b[0m\u001b[0msig\u001b[0m\u001b[0;34m.\u001b[0m\u001b[0mparameters\u001b[0m\u001b[0;34m,\u001b[0m \u001b[0margs\u001b[0m\u001b[0;34m)\u001b[0m\u001b[0;34m}\u001b[0m\u001b[0;34m)\u001b[0m\u001b[0;34m\u001b[0m\u001b[0;34m\u001b[0m\u001b[0m\n\u001b[0;32m---> 46\u001b[0;31m         \u001b[0;32mreturn\u001b[0m \u001b[0mf\u001b[0m\u001b[0;34m(\u001b[0m\u001b[0;34m**\u001b[0m\u001b[0mkwargs\u001b[0m\u001b[0;34m)\u001b[0m\u001b[0;34m\u001b[0m\u001b[0;34m\u001b[0m\u001b[0m\n\u001b[0m\u001b[1;32m     47\u001b[0m     \u001b[0;32mreturn\u001b[0m \u001b[0minner_f\u001b[0m\u001b[0;34m\u001b[0m\u001b[0;34m\u001b[0m\u001b[0m\n\u001b[1;32m     48\u001b[0m \u001b[0;34m\u001b[0m\u001b[0m\n",
      "\u001b[0;32m/opt/tljh/user/lib/python3.7/site-packages/seaborn/categorical.py\u001b[0m in \u001b[0;36mcatplot\u001b[0;34m(x, y, hue, data, row, col, col_wrap, estimator, ci, n_boot, units, seed, order, hue_order, row_order, col_order, kind, height, aspect, orient, color, palette, legend, legend_out, sharex, sharey, margin_titles, facet_kws, **kwargs)\u001b[0m\n\u001b[1;32m   3787\u001b[0m     \u001b[0mp\u001b[0m \u001b[0;34m=\u001b[0m \u001b[0m_CategoricalPlotter\u001b[0m\u001b[0;34m(\u001b[0m\u001b[0;34m)\u001b[0m\u001b[0;34m\u001b[0m\u001b[0;34m\u001b[0m\u001b[0m\n\u001b[1;32m   3788\u001b[0m     \u001b[0mp\u001b[0m\u001b[0;34m.\u001b[0m\u001b[0mrequire_numeric\u001b[0m \u001b[0;34m=\u001b[0m \u001b[0mplotter_class\u001b[0m\u001b[0;34m.\u001b[0m\u001b[0mrequire_numeric\u001b[0m\u001b[0;34m\u001b[0m\u001b[0;34m\u001b[0m\u001b[0m\n\u001b[0;32m-> 3789\u001b[0;31m     \u001b[0mp\u001b[0m\u001b[0;34m.\u001b[0m\u001b[0mestablish_variables\u001b[0m\u001b[0;34m(\u001b[0m\u001b[0mx_\u001b[0m\u001b[0;34m,\u001b[0m \u001b[0my_\u001b[0m\u001b[0;34m,\u001b[0m \u001b[0mhue\u001b[0m\u001b[0;34m,\u001b[0m \u001b[0mdata\u001b[0m\u001b[0;34m,\u001b[0m \u001b[0morient\u001b[0m\u001b[0;34m,\u001b[0m \u001b[0morder\u001b[0m\u001b[0;34m,\u001b[0m \u001b[0mhue_order\u001b[0m\u001b[0;34m)\u001b[0m\u001b[0;34m\u001b[0m\u001b[0;34m\u001b[0m\u001b[0m\n\u001b[0m\u001b[1;32m   3790\u001b[0m     if (\n\u001b[1;32m   3791\u001b[0m         \u001b[0morder\u001b[0m \u001b[0;32mis\u001b[0m \u001b[0;32mnot\u001b[0m \u001b[0;32mNone\u001b[0m\u001b[0;34m\u001b[0m\u001b[0;34m\u001b[0m\u001b[0m\n",
      "\u001b[0;32m/opt/tljh/user/lib/python3.7/site-packages/seaborn/categorical.py\u001b[0m in \u001b[0;36mestablish_variables\u001b[0;34m(self, x, y, hue, data, orient, order, hue_order, units)\u001b[0m\n\u001b[1;32m    155\u001b[0m             \u001b[0;31m# Figure out the plotting orientation\u001b[0m\u001b[0;34m\u001b[0m\u001b[0;34m\u001b[0m\u001b[0;34m\u001b[0m\u001b[0m\n\u001b[1;32m    156\u001b[0m             orient = infer_orient(\n\u001b[0;32m--> 157\u001b[0;31m                 \u001b[0mx\u001b[0m\u001b[0;34m,\u001b[0m \u001b[0my\u001b[0m\u001b[0;34m,\u001b[0m \u001b[0morient\u001b[0m\u001b[0;34m,\u001b[0m \u001b[0mrequire_numeric\u001b[0m\u001b[0;34m=\u001b[0m\u001b[0mself\u001b[0m\u001b[0;34m.\u001b[0m\u001b[0mrequire_numeric\u001b[0m\u001b[0;34m\u001b[0m\u001b[0;34m\u001b[0m\u001b[0m\n\u001b[0m\u001b[1;32m    158\u001b[0m             )\n\u001b[1;32m    159\u001b[0m \u001b[0;34m\u001b[0m\u001b[0m\n",
      "\u001b[0;32m/opt/tljh/user/lib/python3.7/site-packages/seaborn/_core.py\u001b[0m in \u001b[0;36minfer_orient\u001b[0;34m(x, y, orient, require_numeric)\u001b[0m\n\u001b[1;32m   1303\u001b[0m \u001b[0;34m\u001b[0m\u001b[0m\n\u001b[1;32m   1304\u001b[0m     \u001b[0mx_type\u001b[0m \u001b[0;34m=\u001b[0m \u001b[0;32mNone\u001b[0m \u001b[0;32mif\u001b[0m \u001b[0mx\u001b[0m \u001b[0;32mis\u001b[0m \u001b[0;32mNone\u001b[0m \u001b[0;32melse\u001b[0m \u001b[0mvariable_type\u001b[0m\u001b[0;34m(\u001b[0m\u001b[0mx\u001b[0m\u001b[0;34m)\u001b[0m\u001b[0;34m\u001b[0m\u001b[0;34m\u001b[0m\u001b[0m\n\u001b[0;32m-> 1305\u001b[0;31m     \u001b[0my_type\u001b[0m \u001b[0;34m=\u001b[0m \u001b[0;32mNone\u001b[0m \u001b[0;32mif\u001b[0m \u001b[0my\u001b[0m \u001b[0;32mis\u001b[0m \u001b[0;32mNone\u001b[0m \u001b[0;32melse\u001b[0m \u001b[0mvariable_type\u001b[0m\u001b[0;34m(\u001b[0m\u001b[0my\u001b[0m\u001b[0;34m)\u001b[0m\u001b[0;34m\u001b[0m\u001b[0;34m\u001b[0m\u001b[0m\n\u001b[0m\u001b[1;32m   1306\u001b[0m \u001b[0;34m\u001b[0m\u001b[0m\n\u001b[1;32m   1307\u001b[0m     \u001b[0mnonnumeric_dv_error\u001b[0m \u001b[0;34m=\u001b[0m \u001b[0;34m\"{} orientation requires numeric `{}` variable.\"\u001b[0m\u001b[0;34m\u001b[0m\u001b[0;34m\u001b[0m\u001b[0m\n",
      "\u001b[0;32m/opt/tljh/user/lib/python3.7/site-packages/seaborn/_core.py\u001b[0m in \u001b[0;36mvariable_type\u001b[0;34m(vector, boolean_type)\u001b[0m\n\u001b[1;32m   1220\u001b[0m \u001b[0;34m\u001b[0m\u001b[0m\n\u001b[1;32m   1221\u001b[0m     \u001b[0;31m# Special-case all-na data, which is always \"numeric\"\u001b[0m\u001b[0;34m\u001b[0m\u001b[0;34m\u001b[0m\u001b[0;34m\u001b[0m\u001b[0m\n\u001b[0;32m-> 1222\u001b[0;31m     \u001b[0;32mif\u001b[0m \u001b[0mpd\u001b[0m\u001b[0;34m.\u001b[0m\u001b[0misna\u001b[0m\u001b[0;34m(\u001b[0m\u001b[0mvector\u001b[0m\u001b[0;34m)\u001b[0m\u001b[0;34m.\u001b[0m\u001b[0mall\u001b[0m\u001b[0;34m(\u001b[0m\u001b[0;34m)\u001b[0m\u001b[0;34m:\u001b[0m\u001b[0;34m\u001b[0m\u001b[0;34m\u001b[0m\u001b[0m\n\u001b[0m\u001b[1;32m   1223\u001b[0m         \u001b[0;32mreturn\u001b[0m \u001b[0;34m\"numeric\"\u001b[0m\u001b[0;34m\u001b[0m\u001b[0;34m\u001b[0m\u001b[0m\n\u001b[1;32m   1224\u001b[0m \u001b[0;34m\u001b[0m\u001b[0m\n",
      "\u001b[0;32m/opt/tljh/user/lib/python3.7/site-packages/pandas/core/generic.py\u001b[0m in \u001b[0;36m__nonzero__\u001b[0;34m(self)\u001b[0m\n\u001b[1;32m   1440\u001b[0m     \u001b[0;32mdef\u001b[0m \u001b[0m__nonzero__\u001b[0m\u001b[0;34m(\u001b[0m\u001b[0mself\u001b[0m\u001b[0;34m)\u001b[0m\u001b[0;34m:\u001b[0m\u001b[0;34m\u001b[0m\u001b[0;34m\u001b[0m\u001b[0m\n\u001b[1;32m   1441\u001b[0m         raise ValueError(\n\u001b[0;32m-> 1442\u001b[0;31m             \u001b[0;34mf\"The truth value of a {type(self).__name__} is ambiguous. \"\u001b[0m\u001b[0;34m\u001b[0m\u001b[0;34m\u001b[0m\u001b[0m\n\u001b[0m\u001b[1;32m   1443\u001b[0m             \u001b[0;34m\"Use a.empty, a.bool(), a.item(), a.any() or a.all().\"\u001b[0m\u001b[0;34m\u001b[0m\u001b[0;34m\u001b[0m\u001b[0m\n\u001b[1;32m   1444\u001b[0m         )\n",
      "\u001b[0;31mValueError\u001b[0m: The truth value of a Series is ambiguous. Use a.empty, a.bool(), a.item(), a.any() or a.all()."
     ]
    }
   ],
   "source": [
    "BKP = sns.catplot(x='property_type', y='price', kind='bar', data = df3, aspect=3)\n",
    "BKP.set_xticklabels(rotation=90, horizontalalignment='center')\n",
    "BKP.fig.suptitle('Preferred cities based on review score location')"
   ]
  },
  {
   "cell_type": "code",
   "execution_count": 214,
   "id": "eleven-bermuda",
   "metadata": {
    "collapsed": true,
    "jupyter": {
     "outputs_hidden": true
    }
   },
   "outputs": [
    {
     "ename": "ValueError",
     "evalue": "The truth value of a Series is ambiguous. Use a.empty, a.bool(), a.item(), a.any() or a.all().",
     "output_type": "error",
     "traceback": [
      "\u001b[0;31m---------------------------------------------------------------------------\u001b[0m",
      "\u001b[0;31mValueError\u001b[0m                                Traceback (most recent call last)",
      "\u001b[0;32m<ipython-input-214-f6bc2b47497b>\u001b[0m in \u001b[0;36m<module>\u001b[0;34m\u001b[0m\n\u001b[0;32m----> 1\u001b[0;31m \u001b[0mBKP\u001b[0m\u001b[0;34m=\u001b[0m\u001b[0msns\u001b[0m\u001b[0;34m.\u001b[0m\u001b[0mcatplot\u001b[0m\u001b[0;34m(\u001b[0m\u001b[0mx\u001b[0m\u001b[0;34m=\u001b[0m\u001b[0;34m'property_type'\u001b[0m\u001b[0;34m,\u001b[0m \u001b[0my\u001b[0m\u001b[0;34m=\u001b[0m\u001b[0;34m'price'\u001b[0m\u001b[0;34m,\u001b[0m \u001b[0mkind\u001b[0m \u001b[0;34m=\u001b[0m\u001b[0;34m'bar'\u001b[0m\u001b[0;34m,\u001b[0m \u001b[0mdata\u001b[0m\u001b[0;34m=\u001b[0m \u001b[0mdf3\u001b[0m\u001b[0;34m,\u001b[0m \u001b[0maspect\u001b[0m\u001b[0;34m=\u001b[0m\u001b[0;36m2\u001b[0m\u001b[0;34m)\u001b[0m\u001b[0;34m\u001b[0m\u001b[0;34m\u001b[0m\u001b[0m\n\u001b[0m\u001b[1;32m      2\u001b[0m                                     \u001b[0;31m#aspect: increase the width of your graph\u001b[0m\u001b[0;34m\u001b[0m\u001b[0;34m\u001b[0m\u001b[0;34m\u001b[0m\u001b[0m\n\u001b[1;32m      3\u001b[0m \u001b[0mBKP\u001b[0m\u001b[0;34m.\u001b[0m\u001b[0mset_xticklabels\u001b[0m\u001b[0;34m(\u001b[0m\u001b[0mrotation\u001b[0m\u001b[0;34m=\u001b[0m\u001b[0;36m90\u001b[0m\u001b[0;34m,\u001b[0m \u001b[0mhorizontalalignment\u001b[0m\u001b[0;34m=\u001b[0m\u001b[0;34m'right'\u001b[0m\u001b[0;34m)\u001b[0m\u001b[0;34m\u001b[0m\u001b[0;34m\u001b[0m\u001b[0m\n\u001b[1;32m      4\u001b[0m                                     \u001b[0;31m#rotation: the rotation of the vaues (House, Guesthouse,etc.)\u001b[0m\u001b[0;34m\u001b[0m\u001b[0;34m\u001b[0m\u001b[0;34m\u001b[0m\u001b[0m\n\u001b[1;32m      5\u001b[0m \u001b[0mBKP\u001b[0m\u001b[0;34m.\u001b[0m\u001b[0mfig\u001b[0m\u001b[0;34m.\u001b[0m\u001b[0msuptitle\u001b[0m\u001b[0;34m(\u001b[0m\u001b[0;34m\"Property Price in Bangkok, according to property type\"\u001b[0m\u001b[0;34m)\u001b[0m\u001b[0;34m\u001b[0m\u001b[0;34m\u001b[0m\u001b[0m\n",
      "\u001b[0;32m/opt/tljh/user/lib/python3.7/site-packages/seaborn/_decorators.py\u001b[0m in \u001b[0;36minner_f\u001b[0;34m(*args, **kwargs)\u001b[0m\n\u001b[1;32m     44\u001b[0m             )\n\u001b[1;32m     45\u001b[0m         \u001b[0mkwargs\u001b[0m\u001b[0;34m.\u001b[0m\u001b[0mupdate\u001b[0m\u001b[0;34m(\u001b[0m\u001b[0;34m{\u001b[0m\u001b[0mk\u001b[0m\u001b[0;34m:\u001b[0m \u001b[0marg\u001b[0m \u001b[0;32mfor\u001b[0m \u001b[0mk\u001b[0m\u001b[0;34m,\u001b[0m \u001b[0marg\u001b[0m \u001b[0;32min\u001b[0m \u001b[0mzip\u001b[0m\u001b[0;34m(\u001b[0m\u001b[0msig\u001b[0m\u001b[0;34m.\u001b[0m\u001b[0mparameters\u001b[0m\u001b[0;34m,\u001b[0m \u001b[0margs\u001b[0m\u001b[0;34m)\u001b[0m\u001b[0;34m}\u001b[0m\u001b[0;34m)\u001b[0m\u001b[0;34m\u001b[0m\u001b[0;34m\u001b[0m\u001b[0m\n\u001b[0;32m---> 46\u001b[0;31m         \u001b[0;32mreturn\u001b[0m \u001b[0mf\u001b[0m\u001b[0;34m(\u001b[0m\u001b[0;34m**\u001b[0m\u001b[0mkwargs\u001b[0m\u001b[0;34m)\u001b[0m\u001b[0;34m\u001b[0m\u001b[0;34m\u001b[0m\u001b[0m\n\u001b[0m\u001b[1;32m     47\u001b[0m     \u001b[0;32mreturn\u001b[0m \u001b[0minner_f\u001b[0m\u001b[0;34m\u001b[0m\u001b[0;34m\u001b[0m\u001b[0m\n\u001b[1;32m     48\u001b[0m \u001b[0;34m\u001b[0m\u001b[0m\n",
      "\u001b[0;32m/opt/tljh/user/lib/python3.7/site-packages/seaborn/categorical.py\u001b[0m in \u001b[0;36mcatplot\u001b[0;34m(x, y, hue, data, row, col, col_wrap, estimator, ci, n_boot, units, seed, order, hue_order, row_order, col_order, kind, height, aspect, orient, color, palette, legend, legend_out, sharex, sharey, margin_titles, facet_kws, **kwargs)\u001b[0m\n\u001b[1;32m   3787\u001b[0m     \u001b[0mp\u001b[0m \u001b[0;34m=\u001b[0m \u001b[0m_CategoricalPlotter\u001b[0m\u001b[0;34m(\u001b[0m\u001b[0;34m)\u001b[0m\u001b[0;34m\u001b[0m\u001b[0;34m\u001b[0m\u001b[0m\n\u001b[1;32m   3788\u001b[0m     \u001b[0mp\u001b[0m\u001b[0;34m.\u001b[0m\u001b[0mrequire_numeric\u001b[0m \u001b[0;34m=\u001b[0m \u001b[0mplotter_class\u001b[0m\u001b[0;34m.\u001b[0m\u001b[0mrequire_numeric\u001b[0m\u001b[0;34m\u001b[0m\u001b[0;34m\u001b[0m\u001b[0m\n\u001b[0;32m-> 3789\u001b[0;31m     \u001b[0mp\u001b[0m\u001b[0;34m.\u001b[0m\u001b[0mestablish_variables\u001b[0m\u001b[0;34m(\u001b[0m\u001b[0mx_\u001b[0m\u001b[0;34m,\u001b[0m \u001b[0my_\u001b[0m\u001b[0;34m,\u001b[0m \u001b[0mhue\u001b[0m\u001b[0;34m,\u001b[0m \u001b[0mdata\u001b[0m\u001b[0;34m,\u001b[0m \u001b[0morient\u001b[0m\u001b[0;34m,\u001b[0m \u001b[0morder\u001b[0m\u001b[0;34m,\u001b[0m \u001b[0mhue_order\u001b[0m\u001b[0;34m)\u001b[0m\u001b[0;34m\u001b[0m\u001b[0;34m\u001b[0m\u001b[0m\n\u001b[0m\u001b[1;32m   3790\u001b[0m     if (\n\u001b[1;32m   3791\u001b[0m         \u001b[0morder\u001b[0m \u001b[0;32mis\u001b[0m \u001b[0;32mnot\u001b[0m \u001b[0;32mNone\u001b[0m\u001b[0;34m\u001b[0m\u001b[0;34m\u001b[0m\u001b[0m\n",
      "\u001b[0;32m/opt/tljh/user/lib/python3.7/site-packages/seaborn/categorical.py\u001b[0m in \u001b[0;36mestablish_variables\u001b[0;34m(self, x, y, hue, data, orient, order, hue_order, units)\u001b[0m\n\u001b[1;32m    155\u001b[0m             \u001b[0;31m# Figure out the plotting orientation\u001b[0m\u001b[0;34m\u001b[0m\u001b[0;34m\u001b[0m\u001b[0;34m\u001b[0m\u001b[0m\n\u001b[1;32m    156\u001b[0m             orient = infer_orient(\n\u001b[0;32m--> 157\u001b[0;31m                 \u001b[0mx\u001b[0m\u001b[0;34m,\u001b[0m \u001b[0my\u001b[0m\u001b[0;34m,\u001b[0m \u001b[0morient\u001b[0m\u001b[0;34m,\u001b[0m \u001b[0mrequire_numeric\u001b[0m\u001b[0;34m=\u001b[0m\u001b[0mself\u001b[0m\u001b[0;34m.\u001b[0m\u001b[0mrequire_numeric\u001b[0m\u001b[0;34m\u001b[0m\u001b[0;34m\u001b[0m\u001b[0m\n\u001b[0m\u001b[1;32m    158\u001b[0m             )\n\u001b[1;32m    159\u001b[0m \u001b[0;34m\u001b[0m\u001b[0m\n",
      "\u001b[0;32m/opt/tljh/user/lib/python3.7/site-packages/seaborn/_core.py\u001b[0m in \u001b[0;36minfer_orient\u001b[0;34m(x, y, orient, require_numeric)\u001b[0m\n\u001b[1;32m   1303\u001b[0m \u001b[0;34m\u001b[0m\u001b[0m\n\u001b[1;32m   1304\u001b[0m     \u001b[0mx_type\u001b[0m \u001b[0;34m=\u001b[0m \u001b[0;32mNone\u001b[0m \u001b[0;32mif\u001b[0m \u001b[0mx\u001b[0m \u001b[0;32mis\u001b[0m \u001b[0;32mNone\u001b[0m \u001b[0;32melse\u001b[0m \u001b[0mvariable_type\u001b[0m\u001b[0;34m(\u001b[0m\u001b[0mx\u001b[0m\u001b[0;34m)\u001b[0m\u001b[0;34m\u001b[0m\u001b[0;34m\u001b[0m\u001b[0m\n\u001b[0;32m-> 1305\u001b[0;31m     \u001b[0my_type\u001b[0m \u001b[0;34m=\u001b[0m \u001b[0;32mNone\u001b[0m \u001b[0;32mif\u001b[0m \u001b[0my\u001b[0m \u001b[0;32mis\u001b[0m \u001b[0;32mNone\u001b[0m \u001b[0;32melse\u001b[0m \u001b[0mvariable_type\u001b[0m\u001b[0;34m(\u001b[0m\u001b[0my\u001b[0m\u001b[0;34m)\u001b[0m\u001b[0;34m\u001b[0m\u001b[0;34m\u001b[0m\u001b[0m\n\u001b[0m\u001b[1;32m   1306\u001b[0m \u001b[0;34m\u001b[0m\u001b[0m\n\u001b[1;32m   1307\u001b[0m     \u001b[0mnonnumeric_dv_error\u001b[0m \u001b[0;34m=\u001b[0m \u001b[0;34m\"{} orientation requires numeric `{}` variable.\"\u001b[0m\u001b[0;34m\u001b[0m\u001b[0;34m\u001b[0m\u001b[0m\n",
      "\u001b[0;32m/opt/tljh/user/lib/python3.7/site-packages/seaborn/_core.py\u001b[0m in \u001b[0;36mvariable_type\u001b[0;34m(vector, boolean_type)\u001b[0m\n\u001b[1;32m   1220\u001b[0m \u001b[0;34m\u001b[0m\u001b[0m\n\u001b[1;32m   1221\u001b[0m     \u001b[0;31m# Special-case all-na data, which is always \"numeric\"\u001b[0m\u001b[0;34m\u001b[0m\u001b[0;34m\u001b[0m\u001b[0;34m\u001b[0m\u001b[0m\n\u001b[0;32m-> 1222\u001b[0;31m     \u001b[0;32mif\u001b[0m \u001b[0mpd\u001b[0m\u001b[0;34m.\u001b[0m\u001b[0misna\u001b[0m\u001b[0;34m(\u001b[0m\u001b[0mvector\u001b[0m\u001b[0;34m)\u001b[0m\u001b[0;34m.\u001b[0m\u001b[0mall\u001b[0m\u001b[0;34m(\u001b[0m\u001b[0;34m)\u001b[0m\u001b[0;34m:\u001b[0m\u001b[0;34m\u001b[0m\u001b[0;34m\u001b[0m\u001b[0m\n\u001b[0m\u001b[1;32m   1223\u001b[0m         \u001b[0;32mreturn\u001b[0m \u001b[0;34m\"numeric\"\u001b[0m\u001b[0;34m\u001b[0m\u001b[0;34m\u001b[0m\u001b[0m\n\u001b[1;32m   1224\u001b[0m \u001b[0;34m\u001b[0m\u001b[0m\n",
      "\u001b[0;32m/opt/tljh/user/lib/python3.7/site-packages/pandas/core/generic.py\u001b[0m in \u001b[0;36m__nonzero__\u001b[0;34m(self)\u001b[0m\n\u001b[1;32m   1440\u001b[0m     \u001b[0;32mdef\u001b[0m \u001b[0m__nonzero__\u001b[0m\u001b[0;34m(\u001b[0m\u001b[0mself\u001b[0m\u001b[0;34m)\u001b[0m\u001b[0;34m:\u001b[0m\u001b[0;34m\u001b[0m\u001b[0;34m\u001b[0m\u001b[0m\n\u001b[1;32m   1441\u001b[0m         raise ValueError(\n\u001b[0;32m-> 1442\u001b[0;31m             \u001b[0;34mf\"The truth value of a {type(self).__name__} is ambiguous. \"\u001b[0m\u001b[0;34m\u001b[0m\u001b[0;34m\u001b[0m\u001b[0m\n\u001b[0m\u001b[1;32m   1443\u001b[0m             \u001b[0;34m\"Use a.empty, a.bool(), a.item(), a.any() or a.all().\"\u001b[0m\u001b[0;34m\u001b[0m\u001b[0;34m\u001b[0m\u001b[0m\n\u001b[1;32m   1444\u001b[0m         )\n",
      "\u001b[0;31mValueError\u001b[0m: The truth value of a Series is ambiguous. Use a.empty, a.bool(), a.item(), a.any() or a.all()."
     ]
    }
   ],
   "source": [
    "BKP=sns.catplot(x='property_type', y='price', kind ='bar', data= df3, aspect=2)\n",
    "                                    #aspect: increase the width of your graph \n",
    "BKP.set_xticklabels(rotation=90, horizontalalignment='right')\n",
    "                                    #rotation: the rotation of the vaues (House, Guesthouse,etc.)\n",
    "BKP.fig.suptitle(\"Property Price in Bangkok, according to property type\")"
   ]
  },
  {
   "cell_type": "code",
   "execution_count": 196,
   "id": "sharp-clearance",
   "metadata": {},
   "outputs": [],
   "source": [
    "SC = [['neighbourhood','property_type']]"
   ]
  },
  {
   "cell_type": "code",
   "execution_count": 170,
   "id": "loaded-silly",
   "metadata": {},
   "outputs": [
    {
     "data": {
      "image/png": "[encoded data removed]",
      "text/plain": [
       "<Figure size 720x576 with 1 Axes>"
      ]
     },
     "metadata": {
      "needs_background": "light"
     },
     "output_type": "display_data"
    }
   ],
   "source": [
    "feq = Bangkok['neighbourhood'].sort_values(by='count', ascending=False)[:12]\n",
    "feq.plot.barh(figsize=(10,8), color ='b', width= 0.9)\n",
    "plt.title('neighbourhood', fontsize=14)\n",
    "plt.xlabel('Number of listings', fontsize = 12)\n",
    "plt.show()"
   ]
  },
  {
   "cell_type": "code",
   "execution_count": 176,
   "id": "swedish-resolution",
   "metadata": {},
   "outputs": [
    {
     "ename": "KeyError",
     "evalue": "'host_since'",
     "output_type": "error",
     "traceback": [
      "\u001b[0;31m---------------------------------------------------------------------------\u001b[0m",
      "\u001b[0;31mKeyError\u001b[0m                                  Traceback (most recent call last)",
      "\u001b[0;32m<ipython-input-176-d01de3f1a18b>\u001b[0m in \u001b[0;36m<module>\u001b[0;34m\u001b[0m\n\u001b[0;32m----> 1\u001b[0;31m \u001b[0mBKHosts\u001b[0m \u001b[0;34m=\u001b[0m \u001b[0mBangkok\u001b[0m\u001b[0;34m.\u001b[0m\u001b[0mgroupby\u001b[0m\u001b[0;34m(\u001b[0m\u001b[0;34m[\u001b[0m\u001b[0;34m'host_since'\u001b[0m\u001b[0;34m]\u001b[0m\u001b[0;34m)\u001b[0m\u001b[0;34m.\u001b[0m\u001b[0mmean\u001b[0m\u001b[0;34m(\u001b[0m\u001b[0;34m)\u001b[0m\u001b[0;34m\u001b[0m\u001b[0;34m\u001b[0m\u001b[0m\n\u001b[0m\u001b[1;32m      2\u001b[0m \u001b[0mprint\u001b[0m\u001b[0;34m(\u001b[0m\u001b[0mBKHosts\u001b[0m\u001b[0;34m[\u001b[0m\u001b[0;34m'price'\u001b[0m\u001b[0;34m]\u001b[0m\u001b[0;34m)\u001b[0m\u001b[0;34m\u001b[0m\u001b[0;34m\u001b[0m\u001b[0m\n",
      "\u001b[0;32m/opt/tljh/user/lib/python3.7/site-packages/pandas/core/frame.py\u001b[0m in \u001b[0;36mgroupby\u001b[0;34m(self, by, axis, level, as_index, sort, group_keys, squeeze, observed, dropna)\u001b[0m\n\u001b[1;32m   6722\u001b[0m             \u001b[0msqueeze\u001b[0m\u001b[0;34m=\u001b[0m\u001b[0msqueeze\u001b[0m\u001b[0;34m,\u001b[0m\u001b[0;34m\u001b[0m\u001b[0;34m\u001b[0m\u001b[0m\n\u001b[1;32m   6723\u001b[0m             \u001b[0mobserved\u001b[0m\u001b[0;34m=\u001b[0m\u001b[0mobserved\u001b[0m\u001b[0;34m,\u001b[0m\u001b[0;34m\u001b[0m\u001b[0;34m\u001b[0m\u001b[0m\n\u001b[0;32m-> 6724\u001b[0;31m             \u001b[0mdropna\u001b[0m\u001b[0;34m=\u001b[0m\u001b[0mdropna\u001b[0m\u001b[0;34m,\u001b[0m\u001b[0;34m\u001b[0m\u001b[0;34m\u001b[0m\u001b[0m\n\u001b[0m\u001b[1;32m   6725\u001b[0m         )\n\u001b[1;32m   6726\u001b[0m \u001b[0;34m\u001b[0m\u001b[0m\n",
      "\u001b[0;32m/opt/tljh/user/lib/python3.7/site-packages/pandas/core/groupby/groupby.py\u001b[0m in \u001b[0;36m__init__\u001b[0;34m(self, obj, keys, axis, level, grouper, exclusions, selection, as_index, sort, group_keys, squeeze, observed, mutated, dropna)\u001b[0m\n\u001b[1;32m    566\u001b[0m                 \u001b[0mobserved\u001b[0m\u001b[0;34m=\u001b[0m\u001b[0mobserved\u001b[0m\u001b[0;34m,\u001b[0m\u001b[0;34m\u001b[0m\u001b[0;34m\u001b[0m\u001b[0m\n\u001b[1;32m    567\u001b[0m                 \u001b[0mmutated\u001b[0m\u001b[0;34m=\u001b[0m\u001b[0mself\u001b[0m\u001b[0;34m.\u001b[0m\u001b[0mmutated\u001b[0m\u001b[0;34m,\u001b[0m\u001b[0;34m\u001b[0m\u001b[0;34m\u001b[0m\u001b[0m\n\u001b[0;32m--> 568\u001b[0;31m                 \u001b[0mdropna\u001b[0m\u001b[0;34m=\u001b[0m\u001b[0mself\u001b[0m\u001b[0;34m.\u001b[0m\u001b[0mdropna\u001b[0m\u001b[0;34m,\u001b[0m\u001b[0;34m\u001b[0m\u001b[0;34m\u001b[0m\u001b[0m\n\u001b[0m\u001b[1;32m    569\u001b[0m             )\n\u001b[1;32m    570\u001b[0m \u001b[0;34m\u001b[0m\u001b[0m\n",
      "\u001b[0;32m/opt/tljh/user/lib/python3.7/site-packages/pandas/core/groupby/grouper.py\u001b[0m in \u001b[0;36mget_grouper\u001b[0;34m(obj, key, axis, level, sort, observed, mutated, validate, dropna)\u001b[0m\n\u001b[1;32m    809\u001b[0m                 \u001b[0min_axis\u001b[0m\u001b[0;34m,\u001b[0m \u001b[0mname\u001b[0m\u001b[0;34m,\u001b[0m \u001b[0mlevel\u001b[0m\u001b[0;34m,\u001b[0m \u001b[0mgpr\u001b[0m \u001b[0;34m=\u001b[0m \u001b[0;32mFalse\u001b[0m\u001b[0;34m,\u001b[0m \u001b[0;32mNone\u001b[0m\u001b[0;34m,\u001b[0m \u001b[0mgpr\u001b[0m\u001b[0;34m,\u001b[0m \u001b[0;32mNone\u001b[0m\u001b[0;34m\u001b[0m\u001b[0;34m\u001b[0m\u001b[0m\n\u001b[1;32m    810\u001b[0m             \u001b[0;32melse\u001b[0m\u001b[0;34m:\u001b[0m\u001b[0;34m\u001b[0m\u001b[0;34m\u001b[0m\u001b[0m\n\u001b[0;32m--> 811\u001b[0;31m                 \u001b[0;32mraise\u001b[0m \u001b[0mKeyError\u001b[0m\u001b[0;34m(\u001b[0m\u001b[0mgpr\u001b[0m\u001b[0;34m)\u001b[0m\u001b[0;34m\u001b[0m\u001b[0;34m\u001b[0m\u001b[0m\n\u001b[0m\u001b[1;32m    812\u001b[0m         \u001b[0;32melif\u001b[0m \u001b[0misinstance\u001b[0m\u001b[0;34m(\u001b[0m\u001b[0mgpr\u001b[0m\u001b[0;34m,\u001b[0m \u001b[0mGrouper\u001b[0m\u001b[0;34m)\u001b[0m \u001b[0;32mand\u001b[0m \u001b[0mgpr\u001b[0m\u001b[0;34m.\u001b[0m\u001b[0mkey\u001b[0m \u001b[0;32mis\u001b[0m \u001b[0;32mnot\u001b[0m \u001b[0;32mNone\u001b[0m\u001b[0;34m:\u001b[0m\u001b[0;34m\u001b[0m\u001b[0;34m\u001b[0m\u001b[0m\n\u001b[1;32m    813\u001b[0m             \u001b[0;31m# Add key to exclusions\u001b[0m\u001b[0;34m\u001b[0m\u001b[0;34m\u001b[0m\u001b[0;34m\u001b[0m\u001b[0m\n",
      "\u001b[0;31mKeyError\u001b[0m: 'host_since'"
     ]
    }
   ],
   "source": [
    "BKHosts = Bangkok.groupby(['host_since']).mean()\n",
    "print(BKHosts['price'])"
   ]
  },
  {
   "cell_type": "code",
   "execution_count": null,
   "id": "pediatric-oriental",
   "metadata": {},
   "outputs": [],
   "source": [
    "df = NoDup2.groupby(['city','property_type']).agg({'property_type':['count'],'price':['mean']}).reset_index() #Count property types per city, sort by review score \n",
    "Bangkok = df.loc[(df['city']=='Bangkok')]\n",
    "Bangkok.head().stack(axis=1)\n"
   ]
  },
  {
   "cell_type": "code",
   "execution_count": null,
   "id": "industrial-person",
   "metadata": {},
   "outputs": [],
   "source": [
    "BK = sns.catplot(x='property_type', y='price', kind ='bar', data= NoDup2, aspect=2)\n",
    "BK.set_xticklabels(rotation=90, horizontalalignment='right')\n",
    "BK.fig.suptitle(\"Property Price in Bankgkok, according to property type\")"
   ]
  },
  {
   "cell_type": "code",
   "execution_count": null,
   "id": "involved-restoration",
   "metadata": {},
   "outputs": [],
   "source": [
    "#Since I am not only focusing on Bangkok, the time calculation would be only for Bangkok. Is it possible to find which neighboorhood has the highest % increase of hosts in the past 5 years? "
   ]
  },
  {
   "cell_type": "code",
   "execution_count": null,
   "id": "driven-favorite",
   "metadata": {},
   "outputs": [],
   "source": []
  }
 ],
 "metadata": {
  "kernelspec": {
   "display_name": "Python 3",
   "language": "python",
   "name": "python3"
  },
  "language_info": {
   "codemirror_mode": {
    "name": "ipython",
    "version": 3
   },
   "file_extension": ".py",
   "mimetype": "text/x-python",
   "name": "python",
   "nbconvert_exporter": "python",
   "pygments_lexer": "ipython3",
   "version": "3.7.3"
  }
 },
 "nbformat": 4,
 "nbformat_minor": 5
}
